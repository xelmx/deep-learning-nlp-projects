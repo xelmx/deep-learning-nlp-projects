{
  "nbformat": 4,
  "nbformat_minor": 0,
  "metadata": {
    "colab": {
      "provenance": []
    },
    "kernelspec": {
      "name": "python3",
      "display_name": "Python 3"
    },
    "language_info": {
      "name": "python"
    }
  },
  "cells": [
    {
      "cell_type": "code",
      "execution_count": 2,
      "metadata": {
        "colab": {
          "base_uri": "https://localhost:8080/"
        },
        "id": "PaLWSuuO2CNV",
        "outputId": "299da9cb-e681-4686-efde-0aaf75b12468"
      },
      "outputs": [
        {
          "output_type": "stream",
          "name": "stdout",
          "text": [
            "Collecting en-core-web-sm==3.8.0\n",
            "  Downloading https://github.com/explosion/spacy-models/releases/download/en_core_web_sm-3.8.0/en_core_web_sm-3.8.0-py3-none-any.whl (12.8 MB)\n",
            "\u001b[2K     \u001b[90m━━━━━━━━━━━━━━━━━━━━━━━━━━━━━━━━━━━━━━━━\u001b[0m \u001b[32m12.8/12.8 MB\u001b[0m \u001b[31m85.3 MB/s\u001b[0m eta \u001b[36m0:00:00\u001b[0m\n",
            "\u001b[?25h\u001b[38;5;2m✔ Download and installation successful\u001b[0m\n",
            "You can now load the package via spacy.load('en_core_web_sm')\n",
            "\u001b[38;5;3m⚠ Restart to reload dependencies\u001b[0m\n",
            "If you are in a Jupyter or Colab notebook, you may need to restart Python in\n",
            "order to load all the package's dependencies. You can do this by selecting the\n",
            "'Restart kernel' or 'Restart runtime' option.\n",
            "--- Starting spaCy NER Analysis ---\n",
            "Model Used: en_core_web_sm\n",
            "\n",
            "--- Analyzing Sample 1 (Row 1) ---\n",
            "Text: \"The team at Classroom Technical Assistance was polite, but the process felt slow. Clearer guidance upfront could help. Clear signage about required documents could speed things up.\"\n",
            "Result: spaCy found the following entities:\n",
            "  - Entity Text: 'Classroom Technical Assistance', Label: 'ORG'\n",
            "  - Entity Text: 'Clearer', Label: 'PERSON'\n",
            "------------------------------\n",
            "\n",
            "--- Analyzing Sample 2 (Row 8) ---\n",
            "Text: \"Unsatisfactory visit to Face-To-Face inquiry assistance. Consider setting expectations on wait times and providing step-by-step guidance. Extended hours during peak periods could reduce congestion\"\n",
            "Result: spaCy found the following entities:\n",
            "  - Entity Text: 'hours', Label: 'TIME'\n",
            "------------------------------\n",
            "\n",
            "--- Analyzing Sample 3 (Row 36) ---\n",
            "Text: \"Di malinaw yung steps. Sana step-by-step na lang\"\n",
            "Result: spaCy found the following entities:\n",
            "  - Entity Text: 'Sana', Label: 'PERSON'\n",
            "------------------------------\n",
            "\n"
          ]
        }
      ],
      "source": [
        "# Step 1: Install spaCy and download the English model\n",
        "# The \"!\" tells Colab to run this as a command line command\n",
        "!pip install -q spacy\n",
        "!python -m spacy download en_core_web_sm\n",
        "\n",
        "# Step 2: Import the library and run the analysis\n",
        "import spacy\n",
        "\n",
        "# Load the pre-trained English model we just downloaded\n",
        "nlp = spacy.load(\"en_core_web_sm\")\n",
        "\n",
        "# Three text samples from the spreadsheet\n",
        "text_samples = {\n",
        "    \"Sample 1 (Row 1)\": \"The team at Classroom Technical Assistance was polite, but the process felt slow. Clearer guidance upfront could help. Clear signage about required documents could speed things up.\",\n",
        "    \"Sample 2 (Row 8)\": \"Unsatisfactory visit to Face-To-Face inquiry assistance. Consider setting expectations on wait times and providing step-by-step guidance. Extended hours during peak periods could reduce congestion\",\n",
        "    \"Sample 3 (Row 36)\": \"Di malinaw yung steps. Sana step-by-step na lang\"\n",
        "}\n",
        "\n",
        "# Process each sample and print the results\n",
        "print(\"--- Starting spaCy NER Analysis ---\")\n",
        "print(\"Model Used: en_core_web_sm\\n\")\n",
        "\n",
        "for sample_name, text in text_samples.items():\n",
        "    print(f\"--- Analyzing {sample_name} ---\")\n",
        "    print(f\"Text: \\\"{text}\\\"\")\n",
        "\n",
        "    # This is the core of spaCy: processing the text\n",
        "    doc = nlp(text)\n",
        "\n",
        "    # Check if the model found ANY entities\n",
        "    if not doc.ents:\n",
        "        print(\"Result: No entities found by spaCy.\")\n",
        "    else:\n",
        "        print(\"Result: spaCy found the following entities:\")\n",
        "        # Loop through the entities spaCy found and print them\n",
        "        for ent in doc.ents:\n",
        "            print(f\"  - Entity Text: '{ent.text}', Label: '{ent.label_}'\")\n",
        "\n",
        "    print(\"-\" * 30 + \"\\n\")\n"
      ]
    }
  ]
}